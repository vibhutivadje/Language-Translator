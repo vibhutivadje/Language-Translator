{
 "cells": [
  {
   "cell_type": "markdown",
   "metadata": {
    "colab": {},
    "colab_type": "code",
    "id": "Kvi1WBlZ4Sgg"
   },
   "source": [
    "# Import Libraries"
   ]
  },
  {
   "cell_type": "code",
   "execution_count": null,
   "metadata": {},
   "outputs": [],
   "source": [
    "import numpy as np\n",
    "import pandas as pd\n",
    "import re\n",
    "import string\n",
    "import zipfile\n",
    "from string import digits\n",
    "import matplotlib.pyplot as plt\n",
    "%matplotlib inline\n",
    "\n",
    "import tensorflow as tf\n",
    "from tensorflow import keras\n",
    "\n",
    "from __future__ import print_function\n",
    "\n",
    "from sklearn.utils import shuffle\n",
    "from sklearn.model_selection import train_test_split\n",
    "from tensorflow.python.keras import layers\n",
    "from tensorflow.python.keras.layers import Input, LSTM, Embedding, Dense\n",
    "from tensorflow.python.keras.models import Model"
   ]
  },
  {
   "cell_type": "code",
   "execution_count": 17,
   "metadata": {
    "colab": {
     "base_uri": "https://localhost:8080/",
     "height": 122
    },
    "colab_type": "code",
    "id": "6fpw9jPwBx7F",
    "outputId": "2814dcde-e08a-4eda-fb77-cce205670d70"
   },
   "outputs": [
    {
     "name": "stdout",
     "output_type": "stream",
     "text": [
      "Go to this URL in a browser: https://accounts.google.com/o/oauth2/auth?client_id=947318989803-6bn6qk8qdgf4n4g3pfee6491hc0brc4i.apps.googleusercontent.com&redirect_uri=urn%3aietf%3awg%3aoauth%3a2.0%3aoob&response_type=code&scope=email%20https%3a%2f%2fwww.googleapis.com%2fauth%2fdocs.test%20https%3a%2f%2fwww.googleapis.com%2fauth%2fdrive%20https%3a%2f%2fwww.googleapis.com%2fauth%2fdrive.photos.readonly%20https%3a%2f%2fwww.googleapis.com%2fauth%2fpeopleapi.readonly\n",
      "\n",
      "Enter your authorization code:\n",
      "··········\n",
      "Mounted at /content/drive\n"
     ]
    }
   ],
   "source": [
    "from google.colab import drive\n",
    "drive.mount('/content/drive')"
   ]
  },
  {
   "cell_type": "markdown",
   "metadata": {},
   "source": [
    "# Load the dataset"
   ]
  },
  {
   "cell_type": "code",
   "execution_count": 0,
   "metadata": {
    "colab": {},
    "colab_type": "code",
    "id": "5eqme-6SCC8I"
   },
   "outputs": [],
   "source": [
    "zip_ref = zipfile.ZipFile('drive/My Drive/Datasets/mar-eng.zip', 'r')\n",
    "zip_ref.extractall('mar-eng') # unzip directory\n",
    "zip_ref.close()"
   ]
  },
  {
   "cell_type": "code",
   "execution_count": 0,
   "metadata": {
    "colab": {},
    "colab_type": "code",
    "id": "YGMaUfFL-yQr"
   },
   "outputs": [],
   "source": [
    "batch_size = 64  # Batch size for training.\n",
    "epochs = 200  # Number of epochs to train for.\n",
    "latent_dim = 256  # Latent dimensionality of the encoding space.\n",
    "num_samples = 10000  # Number of samples to train on.\n",
    "# Path to the data txt file on disk.\n",
    "data_path = 'mar-eng/mar.txt'"
   ]
  },
  {
   "cell_type": "markdown",
   "metadata": {},
   "source": [
    "# Vectorize the data."
   ]
  },
  {
   "cell_type": "code",
   "execution_count": 0,
   "metadata": {
    "colab": {},
    "colab_type": "code",
    "id": "Pe5AfqZP-3Fk"
   },
   "outputs": [],
   "source": [
    "\n",
    "input_texts = []\n",
    "target_texts = []\n",
    "input_characters = set()\n",
    "target_characters = set()\n",
    "with open(data_path, 'r', encoding='utf-8') as f:\n",
    "    lines = f.read().split('\\n')\n",
    "for line in lines[: min(num_samples, len(lines) - 1)]:\n",
    "    input_text, target_text, _ = line.split('\\t')\n",
    "    # We use \"tab\" as the \"start sequence\" character\n",
    "    # for the targets, and \"\\n\" as \"end sequence\" character.\n",
    "    target_text = '\\t' + target_text + '\\n'\n",
    "    input_texts.append(input_text)\n",
    "    target_texts.append(target_text)\n",
    "    for char in input_text:\n",
    "        if char not in input_characters:\n",
    "            input_characters.add(char)\n",
    "    for char in target_text:\n",
    "        if char not in target_characters:\n",
    "            target_characters.add(char)\n",
    "\n"
   ]
  },
  {
   "cell_type": "code",
   "execution_count": 23,
   "metadata": {
    "colab": {
     "base_uri": "https://localhost:8080/",
     "height": 102
    },
    "colab_type": "code",
    "id": "II1wcpV8CrwE",
    "outputId": "8a771534-7b72-426f-80a2-7df43c433d22"
   },
   "outputs": [
    {
     "name": "stdout",
     "output_type": "stream",
     "text": [
      "Number of samples: 10000\n",
      "Number of unique input tokens: 71\n",
      "Number of unique output tokens: 85\n",
      "Max sequence length for inputs: 19\n",
      "Max sequence length for outputs: 42\n"
     ]
    }
   ],
   "source": [
    "input_characters = sorted(list(input_characters))\n",
    "target_characters = sorted(list(target_characters))\n",
    "num_encoder_tokens = len(input_characters)\n",
    "num_decoder_tokens = len(target_characters)\n",
    "max_encoder_seq_length = max([len(txt) for txt in input_texts])\n",
    "max_decoder_seq_length = max([len(txt) for txt in target_texts])\n",
    "\n",
    "print('Number of samples:', len(input_texts))\n",
    "print('Number of unique input tokens:', num_encoder_tokens)\n",
    "print('Number of unique output tokens:', num_decoder_tokens)\n",
    "print('Max sequence length for inputs:', max_encoder_seq_length)\n",
    "print('Max sequence length for outputs:', max_decoder_seq_length)"
   ]
  },
  {
   "cell_type": "code",
   "execution_count": 0,
   "metadata": {
    "colab": {},
    "colab_type": "code",
    "id": "Wl-N2OO2CxHJ"
   },
   "outputs": [],
   "source": [
    "input_token_index = dict(\n",
    "    [(char, i) for i, char in enumerate(input_characters)])\n",
    "target_token_index = dict(\n",
    "    [(char, i) for i, char in enumerate(target_characters)])"
   ]
  },
  {
   "cell_type": "markdown",
   "metadata": {},
   "source": [
    "# Encoder"
   ]
  },
  {
   "cell_type": "code",
   "execution_count": 0,
   "metadata": {
    "colab": {},
    "colab_type": "code",
    "id": "4nh21IONC1Vd"
   },
   "outputs": [],
   "source": [
    "encoder_input_data = np.zeros(\n",
    "    (len(input_texts), max_encoder_seq_length, num_encoder_tokens),\n",
    "    dtype='float32')\n",
    "decoder_input_data = np.zeros(\n",
    "    (len(input_texts), max_decoder_seq_length, num_decoder_tokens),\n",
    "    dtype='float32')\n",
    "decoder_target_data = np.zeros(\n",
    "    (len(input_texts), max_decoder_seq_length, num_decoder_tokens),\n",
    "    dtype='float32')"
   ]
  },
  {
   "cell_type": "code",
   "execution_count": 0,
   "metadata": {
    "colab": {},
    "colab_type": "code",
    "id": "lW3wvOQ7C5gS"
   },
   "outputs": [],
   "source": [
    "for i, (input_text, target_text) in enumerate(zip(input_texts, target_texts)):\n",
    "    for t, char in enumerate(input_text):\n",
    "        encoder_input_data[i, t, input_token_index[char]] = 1.\n",
    "    encoder_input_data[i, t + 1:, input_token_index[' ']] = 1.\n",
    "    for t, char in enumerate(target_text):\n",
    "        decoder_input_data[i, t, target_token_index[char]] = 1.\n",
    "        if t > 0:\n",
    "            decoder_target_data[i, t - 1, target_token_index[char]] = 1.\n",
    "    decoder_input_data[i, t + 1:, target_token_index[' ']] = 1.\n",
    "    decoder_target_data[i, t:, target_token_index[' ']] = 1.\n",
    "encoder_inputs = Input(shape=(None, num_encoder_tokens))\n",
    "encoder = LSTM(latent_dim, return_state=True)\n",
    "encoder_outputs, state_h, state_c = encoder(encoder_inputs)\n",
    "encoder_states = [state_h, state_c]"
   ]
  },
  {
   "cell_type": "markdown",
   "metadata": {},
   "source": [
    "# Decoder"
   ]
  },
  {
   "cell_type": "code",
   "execution_count": 0,
   "metadata": {
    "colab": {},
    "colab_type": "code",
    "id": "2CKYkQJPD9M1"
   },
   "outputs": [],
   "source": [
    "decoder_inputs = Input(shape=(None, num_decoder_tokens))\n",
    "# We set up our decoder to return full output sequences,\n",
    "# and to return internal states as well. We don't use the\n",
    "# return states in the training model, but we will use them in inference.\n",
    "decoder_lstm = LSTM(latent_dim, return_sequences=True, return_state=True)\n",
    "decoder_outputs, _, _ = decoder_lstm(decoder_inputs,\n",
    "                                     initial_state=encoder_states)\n",
    "decoder_dense = Dense(num_decoder_tokens, activation='softmax')\n",
    "decoder_outputs = decoder_dense(decoder_outputs)\n"
   ]
  },
  {
   "cell_type": "code",
   "execution_count": 0,
   "metadata": {
    "colab": {},
    "colab_type": "code",
    "id": "4GQnJ0WHD-eR"
   },
   "outputs": [],
   "source": [
    "model = Model([encoder_inputs, decoder_inputs], decoder_outputs)"
   ]
  },
  {
   "cell_type": "markdown",
   "metadata": {},
   "source": [
    "# Build the Model"
   ]
  },
  {
   "cell_type": "code",
   "execution_count": 0,
   "metadata": {
    "colab": {},
    "colab_type": "code",
    "id": "f6gkS1-REHUQ"
   },
   "outputs": [],
   "source": [
    "model.compile(optimizer='rmsprop', loss='categorical_crossentropy',\n",
    "              metrics=['accuracy'])"
   ]
  },
  {
   "cell_type": "code",
   "execution_count": 33,
   "metadata": {
    "colab": {
     "base_uri": "https://localhost:8080/",
     "height": 357
    },
    "colab_type": "code",
    "id": "vQ06p5avEPUp",
    "outputId": "1846198e-4dca-439f-ce2d-ee7e46e9cb1f"
   },
   "outputs": [
    {
     "name": "stdout",
     "output_type": "stream",
     "text": [
      "Model: \"model\"\n",
      "__________________________________________________________________________________________________\n",
      "Layer (type)                    Output Shape         Param #     Connected to                     \n",
      "==================================================================================================\n",
      "input_1 (InputLayer)            [(None, None, 71)]   0                                            \n",
      "__________________________________________________________________________________________________\n",
      "input_2 (InputLayer)            [(None, None, 85)]   0                                            \n",
      "__________________________________________________________________________________________________\n",
      "lstm (LSTM)                     [(None, 256), (None, 335872      input_1[0][0]                    \n",
      "__________________________________________________________________________________________________\n",
      "lstm_1 (LSTM)                   [(None, None, 256),  350208      input_2[0][0]                    \n",
      "                                                                 lstm[0][1]                       \n",
      "                                                                 lstm[0][2]                       \n",
      "__________________________________________________________________________________________________\n",
      "dense (Dense)                   (None, None, 85)     21845       lstm_1[0][0]                     \n",
      "==================================================================================================\n",
      "Total params: 707,925\n",
      "Trainable params: 707,925\n",
      "Non-trainable params: 0\n",
      "__________________________________________________________________________________________________\n"
     ]
    }
   ],
   "source": [
    "model.summary()\n"
   ]
  },
  {
   "cell_type": "code",
   "execution_count": 52,
   "metadata": {
    "colab": {
     "base_uri": "https://localhost:8080/",
     "height": 292
    },
    "colab_type": "code",
    "id": "77SbsSvyEBOS",
    "outputId": "87555aad-67c9-4af7-b405-1650b7f67fc2"
   },
   "outputs": [
    {
     "name": "stdout",
     "output_type": "stream",
     "text": [
      "Epoch 1/200\n",
      "125/125 [==============================] - 66s 531ms/step - loss: 0.0397 - accuracy: 0.9846 - val_loss: 1.2734 - val_accuracy: 0.8046\n",
      "Epoch 2/200\n",
      "125/125 [==============================] - 55s 440ms/step - loss: 0.0400 - accuracy: 0.9844 - val_loss: 1.2788 - val_accuracy: 0.8030\n",
      "Epoch 3/200\n",
      "125/125 [==============================] - 60s 479ms/step - loss: 0.0396 - accuracy: 0.9845 - val_loss: 1.2738 - val_accuracy: 0.8050\n",
      "Epoch 4/200\n",
      "125/125 [==============================] - 63s 505ms/step - loss: 0.0393 - accuracy: 0.9844 - val_loss: 1.2725 - val_accuracy: 0.8050\n",
      "Epoch 5/200\n",
      "125/125 [==============================] - 57s 455ms/step - loss: 0.0390 - accuracy: 0.9847 - val_loss: 1.2860 - val_accuracy: 0.8038\n",
      "Epoch 6/200\n",
      "125/125 [==============================] - 61s 492ms/step - loss: 0.0386 - accuracy: 0.9847 - val_loss: 1.2870 - val_accuracy: 0.8048\n",
      "Epoch 7/200\n",
      "125/125 [==============================] - 61s 490ms/step - loss: 0.0385 - accuracy: 0.9846 - val_loss: 1.2842 - val_accuracy: 0.8044\n"
     ]
    },
    {
     "data": {
      "text/plain": [
       "<tensorflow.python.keras.callbacks.History at 0x7f5cc5f32a90>"
      ]
     },
     "execution_count": 52,
     "metadata": {
      "tags": []
     },
     "output_type": "execute_result"
    }
   ],
   "source": [
    "from tensorflow.python.keras.callbacks import EarlyStopping\n",
    "\n",
    "early_stopping_monitor = EarlyStopping(patience=3)\n",
    "\n",
    "model.fit([encoder_input_data, decoder_input_data], decoder_target_data,\n",
    "          batch_size=batch_size,\n",
    "          epochs=epochs,callbacks=[early_stopping_monitor],verbose=1,\n",
    "          validation_split=0.2)"
   ]
  },
  {
   "cell_type": "code",
   "execution_count": 0,
   "metadata": {
    "colab": {},
    "colab_type": "code",
    "id": "hoFn4zsbSF4x"
   },
   "outputs": [],
   "source": [
    "model.save('s2s_char.h5')"
   ]
  },
  {
   "cell_type": "code",
   "execution_count": 0,
   "metadata": {
    "colab": {},
    "colab_type": "code",
    "id": "43tsvtPWSKi_"
   },
   "outputs": [],
   "source": [
    "encoder_model = Model(encoder_inputs, encoder_states)\n",
    "\n",
    "decoder_state_input_h = Input(shape=(latent_dim,))\n",
    "decoder_state_input_c = Input(shape=(latent_dim,))\n",
    "decoder_states_inputs = [decoder_state_input_h, decoder_state_input_c]\n",
    "decoder_outputs, state_h, state_c = decoder_lstm(\n",
    "    decoder_inputs, initial_state=decoder_states_inputs)\n",
    "decoder_states = [state_h, state_c]\n",
    "decoder_outputs = decoder_dense(decoder_outputs)\n",
    "decoder_model = Model(\n",
    "    [decoder_inputs] + decoder_states_inputs,\n",
    "    [decoder_outputs] + decoder_states)"
   ]
  },
  {
   "cell_type": "code",
   "execution_count": 0,
   "metadata": {
    "colab": {},
    "colab_type": "code",
    "id": "fcyP5047SOrs"
   },
   "outputs": [],
   "source": [
    "reverse_input_char_index = dict(\n",
    "    (i, char) for char, i in input_token_index.items())\n",
    "reverse_target_char_index = dict(\n",
    "    (i, char) for char, i in target_token_index.items())"
   ]
  },
  {
   "cell_type": "markdown",
   "metadata": {},
   "source": [
    "# Predictions"
   ]
  },
  {
   "cell_type": "code",
   "execution_count": 57,
   "metadata": {
    "colab": {
     "base_uri": "https://localhost:8080/",
     "height": 1000
    },
    "colab_type": "code",
    "id": "nLP7NG7qSSmx",
    "outputId": "c9a850c5-137e-4bcf-a04f-3971be9fd1af"
   },
   "outputs": [
    {
     "name": "stdout",
     "output_type": "stream",
     "text": [
      "-\n",
      "Input sentence: Go.\n",
      "Decoded sentence: जा.\n",
      "\n",
      "-\n",
      "Input sentence: Run!\n",
      "Decoded sentence: पळा!\n",
      "\n",
      "-\n",
      "Input sentence: Run!\n",
      "Decoded sentence: पळा!\n",
      "\n",
      "-\n",
      "Input sentence: Run!\n",
      "Decoded sentence: पळा!\n",
      "\n",
      "-\n",
      "Input sentence: Run!\n",
      "Decoded sentence: पळा!\n",
      "\n",
      "-\n",
      "Input sentence: Who?\n",
      "Decoded sentence: कोण?\n",
      "\n",
      "-\n",
      "Input sentence: Wow!\n",
      "Decoded sentence: वाह!\n",
      "\n",
      "-\n",
      "Input sentence: Fire!\n",
      "Decoded sentence: आग!\n",
      "\n",
      "-\n",
      "Input sentence: Fire!\n",
      "Decoded sentence: आग!\n",
      "\n",
      "-\n",
      "Input sentence: Help!\n",
      "Decoded sentence: वाचवा!\n",
      "\n",
      "-\n",
      "Input sentence: Help!\n",
      "Decoded sentence: वाचवा!\n",
      "\n",
      "-\n",
      "Input sentence: Jump!\n",
      "Decoded sentence: उडी मार!\n",
      "\n",
      "-\n",
      "Input sentence: Jump!\n",
      "Decoded sentence: उडी मार!\n",
      "\n",
      "-\n",
      "Input sentence: Jump.\n",
      "Decoded sentence: उडी मारा.\n",
      "\n",
      "-\n",
      "Input sentence: Jump.\n",
      "Decoded sentence: उडी मारा.\n",
      "\n",
      "-\n",
      "Input sentence: Stop!\n",
      "Decoded sentence: थांबा!\n",
      "\n",
      "-\n",
      "Input sentence: Stop!\n",
      "Decoded sentence: थांबा!\n",
      "\n",
      "-\n",
      "Input sentence: Wait!\n",
      "Decoded sentence: थांब!\n",
      "\n",
      "-\n",
      "Input sentence: Wait!\n",
      "Decoded sentence: थांब!\n",
      "\n",
      "-\n",
      "Input sentence: Hello!\n",
      "Decoded sentence: पकड!\n",
      "\n",
      "-\n",
      "Input sentence: Hurry!\n",
      "Decoded sentence: लवकर!\n",
      "\n",
      "-\n",
      "Input sentence: Hurry!\n",
      "Decoded sentence: लवकर!\n",
      "\n",
      "-\n",
      "Input sentence: Hurry!\n",
      "Decoded sentence: लवकर!\n",
      "\n",
      "-\n",
      "Input sentence: I won!\n",
      "Decoded sentence: मी जिंकले!\n",
      "\n",
      "-\n",
      "Input sentence: I won!\n",
      "Decoded sentence: मी जिंकले!\n",
      "\n",
      "-\n",
      "Input sentence: Get up.\n",
      "Decoded sentence: ऊठ.\n",
      "\n",
      "-\n",
      "Input sentence: Got it!\n",
      "Decoded sentence: पकडलं!\n",
      "\n",
      "-\n",
      "Input sentence: Got it?\n",
      "Decoded sentence: कळलं?\n",
      "\n",
      "-\n",
      "Input sentence: Got it?\n",
      "Decoded sentence: कळलं?\n",
      "\n",
      "-\n",
      "Input sentence: Got it?\n",
      "Decoded sentence: कळलं?\n",
      "\n",
      "-\n",
      "Input sentence: Got it?\n",
      "Decoded sentence: कळलं?\n",
      "\n",
      "-\n",
      "Input sentence: He ran.\n",
      "Decoded sentence: ते धावले.\n",
      "\n",
      "-\n",
      "Input sentence: He ran.\n",
      "Decoded sentence: ते धावले.\n",
      "\n",
      "-\n",
      "Input sentence: He ran.\n",
      "Decoded sentence: ते धावले.\n",
      "\n",
      "-\n",
      "Input sentence: He ran.\n",
      "Decoded sentence: ते धावले.\n",
      "\n",
      "-\n",
      "Input sentence: I fell.\n",
      "Decoded sentence: पडले.\n",
      "\n",
      "-\n",
      "Input sentence: I fell.\n",
      "Decoded sentence: पडले.\n",
      "\n",
      "-\n",
      "Input sentence: I fell.\n",
      "Decoded sentence: पडले.\n",
      "\n",
      "-\n",
      "Input sentence: I fell.\n",
      "Decoded sentence: पडले.\n",
      "\n",
      "-\n",
      "Input sentence: I know.\n",
      "Decoded sentence: माहीत आहे.\n",
      "\n",
      "-\n",
      "Input sentence: I know.\n",
      "Decoded sentence: माहीत आहे.\n",
      "\n",
      "-\n",
      "Input sentence: I know.\n",
      "Decoded sentence: माहीत आहे.\n",
      "\n",
      "-\n",
      "Input sentence: I lost.\n",
      "Decoded sentence: मी हरले.\n",
      "\n",
      "-\n",
      "Input sentence: I lost.\n",
      "Decoded sentence: मी हरले.\n",
      "\n",
      "-\n",
      "Input sentence: I work.\n",
      "Decoded sentence: मी काम करते.\n",
      "\n",
      "-\n",
      "Input sentence: I work.\n",
      "Decoded sentence: मी काम करते.\n",
      "\n",
      "-\n",
      "Input sentence: I'm OK.\n",
      "Decoded sentence: मी ठीक आहे.\n",
      "\n",
      "-\n",
      "Input sentence: Listen.\n",
      "Decoded sentence: ऐका.\n",
      "\n",
      "-\n",
      "Input sentence: Listen.\n",
      "Decoded sentence: ऐका.\n",
      "\n",
      "-\n",
      "Input sentence: Really?\n",
      "Decoded sentence: खरंच का?\n",
      "\n",
      "-\n",
      "Input sentence: Really?\n",
      "Decoded sentence: खरंच का?\n",
      "\n",
      "-\n",
      "Input sentence: Really?\n",
      "Decoded sentence: खरंच का?\n",
      "\n",
      "-\n",
      "Input sentence: Thanks.\n",
      "Decoded sentence: धन्यवाद.\n",
      "\n",
      "-\n",
      "Input sentence: We won.\n",
      "Decoded sentence: आपण जिंकलो.\n",
      "\n",
      "-\n",
      "Input sentence: We won.\n",
      "Decoded sentence: आपण जिंकलो.\n",
      "\n",
      "-\n",
      "Input sentence: Why me?\n",
      "Decoded sentence: मी का?\n",
      "\n",
      "-\n",
      "Input sentence: Why me?\n",
      "Decoded sentence: मी का?\n",
      "\n",
      "-\n",
      "Input sentence: Ask Tom.\n",
      "Decoded sentence: टॉमला विचार.\n",
      "\n",
      "-\n",
      "Input sentence: Ask Tom.\n",
      "Decoded sentence: टॉमला विचार.\n",
      "\n",
      "-\n",
      "Input sentence: Call me.\n",
      "Decoded sentence: मला बोलवा.\n",
      "\n",
      "-\n",
      "Input sentence: Call me.\n",
      "Decoded sentence: मला बोलवा.\n",
      "\n",
      "-\n",
      "Input sentence: Call me.\n",
      "Decoded sentence: मला बोलवा.\n",
      "\n",
      "-\n",
      "Input sentence: Call me.\n",
      "Decoded sentence: मला बोलवा.\n",
      "\n",
      "-\n",
      "Input sentence: Call us.\n",
      "Decoded sentence: आम्हाला फोन कर.\n",
      "\n",
      "-\n",
      "Input sentence: Call us.\n",
      "Decoded sentence: आम्हाला फोन कर.\n",
      "\n",
      "-\n",
      "Input sentence: Come in.\n",
      "Decoded sentence: आत ये.\n",
      "\n",
      "-\n",
      "Input sentence: Fold it.\n",
      "Decoded sentence: घडी घाला.\n",
      "\n",
      "-\n",
      "Input sentence: Fold it.\n",
      "Decoded sentence: घडी घाला.\n",
      "\n",
      "-\n",
      "Input sentence: Get Tom.\n",
      "Decoded sentence: टॉमला आण.\n",
      "\n",
      "-\n",
      "Input sentence: Get Tom.\n",
      "Decoded sentence: टॉमला आण.\n",
      "\n",
      "-\n",
      "Input sentence: Get Tom.\n",
      "Decoded sentence: टॉमला आण.\n",
      "\n",
      "-\n",
      "Input sentence: Get out.\n",
      "Decoded sentence: बाहेर व्हा.\n",
      "\n",
      "-\n",
      "Input sentence: Get out.\n",
      "Decoded sentence: बाहेर व्हा.\n",
      "\n",
      "-\n",
      "Input sentence: Go home.\n",
      "Decoded sentence: घरी जा.\n",
      "\n",
      "-\n",
      "Input sentence: He came.\n",
      "Decoded sentence: ते आले.\n",
      "\n",
      "-\n",
      "Input sentence: He came.\n",
      "Decoded sentence: ते आले.\n",
      "\n",
      "-\n",
      "Input sentence: He runs.\n",
      "Decoded sentence: ते पळतात.\n",
      "\n",
      "-\n",
      "Input sentence: He runs.\n",
      "Decoded sentence: ते पळतात.\n",
      "\n",
      "-\n",
      "Input sentence: He runs.\n",
      "Decoded sentence: ते पळतात.\n",
      "\n",
      "-\n",
      "Input sentence: He runs.\n",
      "Decoded sentence: ते पळतात.\n",
      "\n",
      "-\n",
      "Input sentence: Help me!\n",
      "Decoded sentence: वाचवा!\n",
      "\n",
      "-\n",
      "Input sentence: Help me!\n",
      "Decoded sentence: वाचवा!\n",
      "\n",
      "-\n",
      "Input sentence: Help me!\n",
      "Decoded sentence: वाचवा!\n",
      "\n",
      "-\n",
      "Input sentence: Help me.\n",
      "Decoded sentence: मला वाचवा.\n",
      "\n",
      "-\n",
      "Input sentence: Help me.\n",
      "Decoded sentence: मला वाचवा.\n",
      "\n",
      "-\n",
      "Input sentence: Help us.\n",
      "Decoded sentence: आम्हाला वाचव.\n",
      "\n",
      "-\n",
      "Input sentence: Help us.\n",
      "Decoded sentence: आम्हाला वाचव.\n",
      "\n",
      "-\n",
      "Input sentence: Help us.\n",
      "Decoded sentence: आम्हाला वाचव.\n",
      "\n",
      "-\n",
      "Input sentence: I'm Tom.\n",
      "Decoded sentence: टॉम मीच.\n",
      "\n",
      "-\n",
      "Input sentence: I'm Tom.\n",
      "Decoded sentence: टॉम मीच.\n",
      "\n",
      "-\n",
      "Input sentence: I'm Tom.\n",
      "Decoded sentence: टॉम मीच.\n",
      "\n",
      "-\n",
      "Input sentence: I'm fat.\n",
      "Decoded sentence: मी जाडा आहे.\n",
      "\n",
      "-\n",
      "Input sentence: I'm fat.\n",
      "Decoded sentence: मी जाडा आहे.\n",
      "\n",
      "-\n",
      "Input sentence: I'm ill.\n",
      "Decoded sentence: मी आजारी आहे.\n",
      "\n",
      "-\n",
      "Input sentence: It's OK.\n",
      "Decoded sentence: ठीक आहे.\n",
      "\n",
      "-\n",
      "Input sentence: It's me!\n",
      "Decoded sentence: मी आहे!\n",
      "\n",
      "-\n",
      "Input sentence: It's me.\n",
      "Decoded sentence: मी आहे.\n",
      "\n",
      "-\n",
      "Input sentence: Me, too.\n",
      "Decoded sentence: मला पण.\n",
      "\n",
      "-\n",
      "Input sentence: Me, too.\n",
      "Decoded sentence: मला पण.\n",
      "\n",
      "-\n",
      "Input sentence: Open up.\n",
      "Decoded sentence: उघड.\n",
      "\n"
     ]
    }
   ],
   "source": [
    "def decode_sequence(input_seq):\n",
    "    \n",
    "    states_value = encoder_model.predict(input_seq)\n",
    "\n",
    "    target_seq = np.zeros((1, 1, num_decoder_tokens))\n",
    "    target_seq[0, 0, target_token_index['\\t']] = 1\n",
    "\n",
    "    stop_condition = False\n",
    "    decoded_sentence = ''\n",
    "    while not stop_condition:\n",
    "        output_tokens, h, c = decoder_model.predict(\n",
    "            [target_seq] + states_value)\n",
    " \n",
    "        sampled_token_index = np.argmax(output_tokens[0, -1, :])\n",
    "        sampled_char = reverse_target_char_index[sampled_token_index]\n",
    "        decoded_sentence += sampled_char\n",
    "\n",
    "        \n",
    "        if (sampled_char == '\\n' or\n",
    "           len(decoded_sentence) > max_decoder_seq_length):\n",
    "            stop_condition = True\n",
    "\n",
    "       \n",
    "        target_seq = np.zeros((1, 1, num_decoder_tokens))\n",
    "        target_seq[0, 0, sampled_token_index] = 1.\n",
    "\n",
    "        \n",
    "        states_value = [h, c]\n",
    "\n",
    "    return decoded_sentence\n",
    "\n",
    "\n",
    "for seq_index in range(100):\n",
    "    input_seq = encoder_input_data[seq_index: seq_index + 1]\n",
    "    decoded_sentence = decode_sequence(input_seq)\n",
    "    print('-')\n",
    "    print('Input sentence:', input_texts[seq_index])\n",
    "    print('Decoded sentence:', decoded_sentence)"
   ]
  }
 ],
 "metadata": {
  "colab": {
   "collapsed_sections": [],
   "name": "CharLevelModel.ipynb",
   "provenance": []
  },
  "kernelspec": {
   "display_name": "Python 3",
   "language": "python",
   "name": "python3"
  },
  "language_info": {
   "codemirror_mode": {
    "name": "ipython",
    "version": 3
   },
   "file_extension": ".py",
   "mimetype": "text/x-python",
   "name": "python",
   "nbconvert_exporter": "python",
   "pygments_lexer": "ipython3",
   "version": "3.7.4"
  }
 },
 "nbformat": 4,
 "nbformat_minor": 1
}
